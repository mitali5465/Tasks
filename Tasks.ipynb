{
 "cells": [
  {
   "cell_type": "code",
   "execution_count": null,
   "id": "31ad690a",
   "metadata": {},
   "outputs": [
    {
     "name": "stdout",
     "output_type": "stream",
     "text": [
      "The current high score is: 0\n",
      "Player 1, make your move (rock/paper/scissors): rock\n",
      "Player 2, make your move (rock/paper/scissors): paper\n",
      "Player 2 wins!\n"
     ]
    }
   ],
   "source": [
    "import os\n",
    "\n",
    "def who_wins(player1, player2):\n",
    "    if player1 == player2:\n",
    "        return \"draw\"\n",
    "    elif player1 == \"rock\" and player2 == \"scissors\":\n",
    "        return \"player1\"\n",
    "    elif player1 == \"scissors\" and player2 == \"paper\":\n",
    "        return \"player1\"\n",
    "    elif player1 == \"paper\" and player2 == \"rock\":\n",
    "        return \"player1\"\n",
    "    else:\n",
    "        return \"player2\"\n",
    "\n",
    "def get_high_score(filename):\n",
    "    if os.path.exists(filename):\n",
    "        with open(filename, \"r\") as file:\n",
    "            return int(file.read())\n",
    "    else:\n",
    "        return 0\n",
    "\n",
    "def update_high_score(filename, score):\n",
    "    with open(filename, \"w\") as file:\n",
    "        file.write(str(score))\n",
    "\n",
    "def play_game():\n",
    "    player1 = input(\"Player 1, make your move (rock/paper/scissors): \")\n",
    "    player2 = input(\"Player 2, make your move (rock/paper/scissors): \")\n",
    "    result = who_wins(player1, player2)\n",
    "    if result == \"draw\":\n",
    "        print(\"It's a draw!\")\n",
    "    elif result == \"player1\":\n",
    "        print(\"Player 1 wins!\")\n",
    "    else:\n",
    "        print(\"Player 2 wins!\")\n",
    "\n",
    "def main():\n",
    "    high_score = get_high_score(\"high_score.txt\")\n",
    "    print(\"The current high score is:\", high_score)\n",
    "    while True:\n",
    "        play_game()\n",
    "        player1_score = int(input(\"Player 1, enter your score: \"))\n",
    "        player2_score = int(input(\"Player 2, enter your score: \"))\n",
    "        if player1_score < 0 or player2_score < 0:\n",
    "            print(\"Score cannot be negative!\")\n",
    "            continue\n",
    "        if player1_score > high_score:\n",
    "            update_high_score(\"high_score.txt\", player1_score)\n",
    "            high_score = player1_score\n",
    "        elif player2_score > high_score:\n",
    "            update_high_score(\"high_score.txt\", player2_score)\n",
    "            high_score = player2_score\n",
    "        answer = input(\"Do you want to continue playing? (y/n): \")\n",
    "        if answer == \"n\":\n",
    "            break\n",
    "\n",
    "if __name__ == \"__main__\":\n",
    "    main()"
   ]
  },
  {
   "cell_type": "code",
   "execution_count": null,
   "id": "2fac5fea",
   "metadata": {},
   "outputs": [],
   "source": [
    "import sys\n",
    " \n",
    "# m is size of coins array (number of different coins)\n",
    "def minCoins(coins, m, V):\n",
    " \n",
    "    # base case\n",
    "    if (V == 0):\n",
    "        return 0\n",
    " \n",
    "    # Initialize result\n",
    "    res = sys.maxsize\n",
    "     \n",
    "    # Try every coin that has smaller value than V\n",
    "    for i in range(0, m):\n",
    "        if (coins[i] <= V):\n",
    "            sub_res = minCoins(coins, m, V-coins[i])\n",
    " \n",
    "            # Check for INT_MAX to avoid overflow and see if\n",
    "            # result can minimized\n",
    "            if (sub_res != sys.maxsize and sub_res + 1 < res):\n",
    "                res = sub_res + 1\n",
    " \n",
    "    return res\n",
    " \n",
    "# Driver program to test above function\n",
    "coins = [9, 6, 5, 1]\n",
    "m = len(coins)\n",
    "V = 11\n",
    "print(\"Minimum coins required is\",minCoins(coins, m, V))"
   ]
  },
  {
   "cell_type": "code",
   "execution_count": null,
   "id": "411e313f",
   "metadata": {},
   "outputs": [],
   "source": [
    "def minimum_coins_required(denominations, change):\n",
    "    # Create a list to store the number of coins required for each denomination\n",
    "    coins_required = [0] * len(denominations)\n",
    "    for i in range(len(denominations) - 1, -1, -1):\n",
    "        while change >= denominations[i]:\n",
    "            change -= denominations[i]\n",
    "            coins_required[i] += 1\n",
    "    return sum(coins_required)\n",
    "\n",
    "denominations = [1, 2, 5, 10, 20, 50]\n",
    "change = 43\n",
    "print(\"Minimum number of coins required: \", minimum_coins_required(denominations, change))"
   ]
  },
  {
   "cell_type": "code",
   "execution_count": null,
   "id": "e7f344de",
   "metadata": {},
   "outputs": [],
   "source": [
    "def min_coins(amount, denominations, num_coins):\n",
    "    coins = []\n",
    "    for d in reversed(denominations):\n",
    "        while amount >= d and num_coins[d] > 0:\n",
    "            amount -= d\n",
    "            num_coins[d] -= 1\n",
    "            coins.append(d)\n",
    "    if amount == 0:\n",
    "        return coins\n",
    "    else:\n",
    "        return None"
   ]
  },
  {
   "cell_type": "code",
   "execution_count": null,
   "id": "5a598cca",
   "metadata": {},
   "outputs": [],
   "source": [
    "amount = 43\n",
    "denominations = [1, 2, 5, 10]\n",
    "num_coins = {1: 10, 2: 10, 5: 10, 10: 10}\n",
    "\n",
    "result = min_coins(amount, denominations, num_coins)\n",
    "if result:\n",
    "    print(result)\n",
    "else:\n",
    "    print(\"Change cannot be made with the available coins.\")"
   ]
  },
  {
   "cell_type": "code",
   "execution_count": null,
   "id": "4de75fe2",
   "metadata": {},
   "outputs": [],
   "source": []
  }
 ],
 "metadata": {
  "kernelspec": {
   "display_name": "Python 3 (ipykernel)",
   "language": "python",
   "name": "python3"
  },
  "language_info": {
   "codemirror_mode": {
    "name": "ipython",
    "version": 3
   },
   "file_extension": ".py",
   "mimetype": "text/x-python",
   "name": "python",
   "nbconvert_exporter": "python",
   "pygments_lexer": "ipython3",
   "version": "3.9.7"
  }
 },
 "nbformat": 4,
 "nbformat_minor": 5
}
